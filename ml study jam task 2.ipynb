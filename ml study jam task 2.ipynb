{
 "cells": [
  {
   "cell_type": "code",
   "execution_count": 1,
   "id": "431ae260",
   "metadata": {},
   "outputs": [],
   "source": [
    "import tensorflow as tf\n",
    "import numpy as np\n",
    "import math\n",
    "import pandas as pd\n",
    "import matplotlib.pyplot as plt"
   ]
  },
  {
   "cell_type": "code",
   "execution_count": 2,
   "id": "e25ce6d7",
   "metadata": {},
   "outputs": [],
   "source": [
    "path = \"C:\\\\Users\\\\anura\\\\Downloads\\\\ML_study_jam.csv\""
   ]
  },
  {
   "cell_type": "code",
   "execution_count": 13,
   "id": "8ca92c32",
   "metadata": {},
   "outputs": [],
   "source": [
    "data = pd.read_csv(path)"
   ]
  },
  {
   "cell_type": "code",
   "execution_count": 14,
   "id": "09a595d1",
   "metadata": {},
   "outputs": [
    {
     "name": "stdout",
     "output_type": "stream",
     "text": [
      "Actual data\n",
      "     Store ID   Store_Area  Items_Available  Daily_Customer_Count  Store_Sales\n",
      "0          1.0      1659.0           1961.0                 530.0      66490.0\n",
      "1          2.0      1461.0           1752.0                 210.0      39820.0\n",
      "2          3.0      1340.0           1609.0                 720.0      54010.0\n",
      "3          4.0      1451.0           1748.0                 620.0      53730.0\n",
      "4          5.0      1770.0           2111.0                 450.0      46620.0\n",
      "..         ...         ...              ...                   ...          ...\n",
      "585      586.0      1227.0           1476.0                 720.0      56260.0\n",
      "586      587.0      1609.0           1930.0                 740.0      76470.0\n",
      "587      588.0      1553.0           1831.0                 740.0      35680.0\n",
      "588      589.0      1814.0           2174.0                 770.0      90070.0\n",
      "589      590.0      1240.0           1493.0                 590.0      33120.0\n",
      "\n",
      "[590 rows x 5 columns]\n"
     ]
    }
   ],
   "source": [
    "print(\"Actual data\")\n",
    "print(data)"
   ]
  },
  {
   "cell_type": "code",
   "execution_count": 21,
   "id": "cc993bef",
   "metadata": {},
   "outputs": [
    {
     "name": "stdout",
     "output_type": "stream",
     "text": [
      "number of missing values:\n",
      " Store_Area               3\n",
      "Items_Available         11\n",
      "Daily_Customer_Count     9\n",
      "Store_Sales              8\n",
      "dtype: int64\n"
     ]
    }
   ],
   "source": [
    "print(\"number of missing values:\\n\",data.isna().sum())"
   ]
  },
  {
   "cell_type": "code",
   "execution_count": 23,
   "id": "8739c784",
   "metadata": {},
   "outputs": [
    {
     "name": "stdout",
     "output_type": "stream",
     "text": [
      "data without missing values\n",
      "     Store_Area  Items_Available  Daily_Customer_Count  Store_Sales\n",
      "0        1659.0           1961.0                 530.0      66490.0\n",
      "2        1340.0           1609.0                 720.0      54010.0\n",
      "3        1451.0           1748.0                 620.0      53730.0\n",
      "4        1770.0           2111.0                 450.0      46620.0\n",
      "5        1442.0           1733.0                 760.0      45260.0\n",
      "..          ...              ...                   ...          ...\n",
      "585      1227.0           1476.0                 720.0      56260.0\n",
      "586      1609.0           1930.0                 740.0      76470.0\n",
      "587      1553.0           1831.0                 740.0      35680.0\n",
      "588      1814.0           2174.0                 770.0      90070.0\n",
      "589      1240.0           1493.0                 590.0      33120.0\n",
      "\n",
      "[564 rows x 4 columns]\n"
     ]
    }
   ],
   "source": [
    "data = data.dropna()\n",
    "print(\"data without missing values\")\n",
    "print(data)"
   ]
  },
  {
   "cell_type": "code",
   "execution_count": 24,
   "id": "a2678867",
   "metadata": {},
   "outputs": [],
   "source": [
    "data = pd.read_csv(path)"
   ]
  },
  {
   "cell_type": "code",
   "execution_count": 25,
   "id": "d1cdddde",
   "metadata": {},
   "outputs": [
    {
     "name": "stdout",
     "output_type": "stream",
     "text": [
      "headers:  ['Store ID ', 'Store_Area', 'Items_Available', 'Daily_Customer_Count', 'Store_Sales']\n"
     ]
    }
   ],
   "source": [
    "head = data.columns\n",
    "headers = []\n",
    "for i in head:\n",
    "    headers.append(i)\n",
    "print(\"headers: \",headers)"
   ]
  },
  {
   "cell_type": "code",
   "execution_count": 28,
   "id": "eaf6ee0f",
   "metadata": {},
   "outputs": [
    {
     "name": "stdout",
     "output_type": "stream",
     "text": [
      "missing data replaced by mode:\n",
      "     Store ID   Store_Area  Items_Available  Daily_Customer_Count  Store_Sales\n",
      "0          1.0      1659.0           1961.0                 530.0      66490.0\n",
      "1          2.0      1461.0           1752.0                 210.0      39820.0\n",
      "2          3.0      1340.0           1609.0                 720.0      54010.0\n",
      "3          4.0      1451.0           1748.0                 620.0      53730.0\n",
      "4          5.0      1770.0           2111.0                 450.0      46620.0\n",
      "..         ...         ...              ...                   ...          ...\n",
      "585      586.0      1227.0           1476.0                 720.0      56260.0\n",
      "586      587.0      1609.0           1930.0                 740.0      76470.0\n",
      "587      588.0      1553.0           1831.0                 740.0      35680.0\n",
      "588      589.0      1814.0           2174.0                 770.0      90070.0\n",
      "589      590.0      1240.0           1493.0                 590.0      33120.0\n",
      "\n",
      "[590 rows x 5 columns]\n"
     ]
    }
   ],
   "source": [
    "data = pd.read_csv(path)\n",
    "for i in headers:\n",
    "    data[i].fillna(data[i].mode()[0], inplace=True)\n",
    "print(\"missing data replaced by mode:\")\n",
    "print(data)"
   ]
  },
  {
   "cell_type": "code",
   "execution_count": 31,
   "id": "91564a83",
   "metadata": {},
   "outputs": [
    {
     "name": "stdout",
     "output_type": "stream",
     "text": [
      "missing data replaced by mode:\n",
      "     Store ID   Store_Area  Items_Available  Daily_Customer_Count  Store_Sales\n",
      "0          1.0      1659.0           1961.0                 530.0      66490.0\n",
      "1          2.0      1461.0           1752.0                 210.0      39820.0\n",
      "2          3.0      1340.0           1609.0                 720.0      54010.0\n",
      "3          4.0      1451.0           1748.0                 620.0      53730.0\n",
      "4          5.0      1770.0           2111.0                 450.0      46620.0\n",
      "..         ...         ...              ...                   ...          ...\n",
      "585      586.0      1227.0           1476.0                 720.0      56260.0\n",
      "586      587.0      1609.0           1930.0                 740.0      76470.0\n",
      "587      588.0      1553.0           1831.0                 740.0      35680.0\n",
      "588      589.0      1814.0           2174.0                 770.0      90070.0\n",
      "589      590.0      1240.0           1493.0                 590.0      33120.0\n",
      "\n",
      "[590 rows x 5 columns]\n"
     ]
    }
   ],
   "source": [
    "data = pd.read_csv(path)\n",
    "for i in headers:\n",
    "    data[i].fillna(data[i].mean(), inplace=True)\n",
    "print(\"missing data replaced by mode:\")\n",
    "print(data)"
   ]
  },
  {
   "cell_type": "code",
   "execution_count": 32,
   "id": "774def69",
   "metadata": {},
   "outputs": [
    {
     "ename": "TypeError",
     "evalue": "DataFrame.fillna() got an unexpected keyword argument 'thresh'",
     "output_type": "error",
     "traceback": [
      "\u001b[1;31m---------------------------------------------------------------------------\u001b[0m",
      "\u001b[1;31mTypeError\u001b[0m                                 Traceback (most recent call last)",
      "Cell \u001b[1;32mIn[32], line 2\u001b[0m\n\u001b[0;32m      1\u001b[0m data \u001b[38;5;241m=\u001b[39m pd\u001b[38;5;241m.\u001b[39mread_csv(path)\n\u001b[1;32m----> 2\u001b[0m data \u001b[38;5;241m=\u001b[39m \u001b[43mdata\u001b[49m\u001b[38;5;241;43m.\u001b[39;49m\u001b[43mfillna\u001b[49m\u001b[43m(\u001b[49m\u001b[43mvalue\u001b[49m\u001b[38;5;241;43m=\u001b[39;49m\u001b[38;5;241;43m1500\u001b[39;49m\u001b[43m,\u001b[49m\u001b[43m \u001b[49m\u001b[43mthresh\u001b[49m\u001b[38;5;241;43m=\u001b[39;49m\u001b[38;5;241;43m1000\u001b[39;49m\u001b[43m)\u001b[49m\n",
      "\u001b[1;31mTypeError\u001b[0m: DataFrame.fillna() got an unexpected keyword argument 'thresh'"
     ]
    }
   ],
   "source": [
    "data = pd.read_csv(path)\n",
    "data = data.fillna(value=1500, thresh=1000)"
   ]
  },
  {
   "cell_type": "code",
   "execution_count": null,
   "id": "36ceef7a",
   "metadata": {},
   "outputs": [],
   "source": []
  }
 ],
 "metadata": {
  "kernelspec": {
   "display_name": "Python 3 (ipykernel)",
   "language": "python",
   "name": "python3"
  },
  "language_info": {
   "codemirror_mode": {
    "name": "ipython",
    "version": 3
   },
   "file_extension": ".py",
   "mimetype": "text/x-python",
   "name": "python",
   "nbconvert_exporter": "python",
   "pygments_lexer": "ipython3",
   "version": "3.10.8"
  }
 },
 "nbformat": 4,
 "nbformat_minor": 5
}
