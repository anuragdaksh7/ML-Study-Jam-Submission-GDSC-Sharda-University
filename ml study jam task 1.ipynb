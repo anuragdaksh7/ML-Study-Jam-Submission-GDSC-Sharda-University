{
 "cells": [
  {
   "cell_type": "code",
   "execution_count": 4,
   "id": "a68592c4",
   "metadata": {},
   "outputs": [],
   "source": [
    "import tensorflow as tf\n",
    "import numpy as np\n",
    "import math\n",
    "import pandas as pd\n",
    "import matplotlib.pyplot as plt"
   ]
  },
  {
   "cell_type": "code",
   "execution_count": null,
   "id": "8a3234bb",
   "metadata": {},
   "outputs": [],
   "source": []
  },
  {
   "cell_type": "code",
   "execution_count": 2,
   "id": "9d424ef3",
   "metadata": {},
   "outputs": [],
   "source": [
    "path = \"C:\\\\Users\\\\anura\\\\Downloads\\\\ML_study_jam.csv\""
   ]
  },
  {
   "cell_type": "code",
   "execution_count": 7,
   "id": "9b303ca3",
   "metadata": {},
   "outputs": [],
   "source": [
    "data = pd.read_csv(path)"
   ]
  },
  {
   "cell_type": "code",
   "execution_count": 15,
   "id": "b85e0827",
   "metadata": {},
   "outputs": [
    {
     "name": "stdout",
     "output_type": "stream",
     "text": [
      "data\n",
      "     Store ID   Store_Area  Items_Available  Daily_Customer_Count  Store_Sales\n",
      "0          1.0      1659.0           1961.0                 530.0      66490.0\n",
      "1          2.0      1461.0           1752.0                 210.0      39820.0\n",
      "2          3.0      1340.0           1609.0                 720.0      54010.0\n",
      "3          4.0      1451.0           1748.0                 620.0      53730.0\n",
      "4          5.0      1770.0           2111.0                 450.0      46620.0\n",
      "..         ...         ...              ...                   ...          ...\n",
      "585      586.0      1227.0           1476.0                 720.0      56260.0\n",
      "586      587.0      1609.0           1930.0                 740.0      76470.0\n",
      "587      588.0      1553.0           1831.0                 740.0      35680.0\n",
      "588      589.0      1814.0           2174.0                 770.0      90070.0\n",
      "589      590.0      1240.0           1493.0                 590.0      33120.0\n",
      "\n",
      "[590 rows x 5 columns]\n",
      "rows: 590 columns: 5\n"
     ]
    }
   ],
   "source": [
    "print(\"data\")\n",
    "print(data)\n",
    "row, column = data.shape\n",
    "print(\"rows:\",row,\"columns:\",column)"
   ]
  },
  {
   "cell_type": "code",
   "execution_count": 39,
   "id": "358e9d2c",
   "metadata": {},
   "outputs": [
    {
     "name": "stdout",
     "output_type": "stream",
     "text": [
      "Store Area mean, max, min:  1500.0 2229.0 0.0\n",
      "Items Available mean, max, min:  1800.0 2667.0 0.0\n",
      "Daily Customer Count mean, max, min:  800.0 1530.0 0.0\n",
      "Store Sales mean, max, min:  58200.0 102920.0 0.0\n"
     ]
    }
   ],
   "source": [
    "print(\"Store Area mean, max, min: \",round(data[\"Store_Area\"].mean(),-2),data[\"Store_Area\"].max(),data[\"Store_Area\"].min())\n",
    "print(\"Items Available mean, max, min: \",round(data[\"Items_Available\"].mean(),-2),data[\"Items_Available\"].max(),data[\"Items_Available\"].min())\n",
    "print(\"Daily Customer Count mean, max, min: \",round(data[\"Daily_Customer_Count\"].mean(),-2),data[\"Daily_Customer_Count\"].max(),data[\"Daily_Customer_Count\"].min())\n",
    "print(\"Store Sales mean, max, min: \",round(data[\"Store_Sales\"].mean(),-2),data[\"Store_Sales\"].max(),data[\"Store_Sales\"].min())"
   ]
  },
  {
   "cell_type": "code",
   "execution_count": 30,
   "id": "c56875e1",
   "metadata": {},
   "outputs": [
    {
     "name": "stdout",
     "output_type": "stream",
     "text": [
      "headers:  ['Store ID ', 'Store_Area', 'Items_Available', 'Daily_Customer_Count', 'Store_Sales']\n"
     ]
    }
   ],
   "source": [
    "head = data.columns\n",
    "headers = []\n",
    "for i in head:\n",
    "    headers.append(i)\n",
    "print(\"headers: \",headers)"
   ]
  },
  {
   "cell_type": "code",
   "execution_count": 47,
   "id": "d6341efe",
   "metadata": {},
   "outputs": [
    {
     "name": "stdout",
     "output_type": "stream",
     "text": [
      "Input:  ['Store ID ', 'Store_Area', 'Items_Available', 'Daily_Customer_Count']\n",
      "Output:  Store_Sales\n",
      "\n",
      "\n",
      "Input Data (top 10 rows):\n",
      "[[1.000e+00 1.659e+03 1.961e+03 5.300e+02]\n",
      " [2.000e+00 1.461e+03 1.752e+03 2.100e+02]\n",
      " [3.000e+00 1.340e+03 1.609e+03 7.200e+02]\n",
      " [4.000e+00 1.451e+03 1.748e+03 6.200e+02]\n",
      " [5.000e+00 1.770e+03 2.111e+03 4.500e+02]\n",
      " [6.000e+00 1.442e+03 1.733e+03 7.600e+02]\n",
      " [7.000e+00 1.542e+03 1.858e+03 1.030e+03]\n",
      " [8.000e+00 1.261e+03 1.507e+03 1.020e+03]\n",
      " [9.000e+00 1.090e+03 1.321e+03 6.800e+02]\n",
      " [1.000e+01 1.030e+03 1.235e+03 1.130e+03]]\n",
      "\n",
      "\n",
      "Output Data (top 10 rows):\n",
      "[[66490.]\n",
      " [39820.]\n",
      " [54010.]\n",
      " [53730.]\n",
      " [46620.]\n",
      " [45260.]\n",
      " [72240.]\n",
      " [37720.]\n",
      " [46310.]\n",
      " [44150.]]\n",
      "\n",
      "\n",
      "Input shape, Output shape:  (590, 4) (590, 1)\n"
     ]
    }
   ],
   "source": [
    "print(\"Input: \",headers[:-1])\n",
    "print(\"Output: \",headers[-1])\n",
    "inputData = []\n",
    "outputData = []\n",
    "for i in range(row):\n",
    "    tmp = []\n",
    "    for j in headers[:-1]:\n",
    "        tmp.append(data[j][i])\n",
    "    tmp = np.array(tmp)\n",
    "    inputData.append(tmp)\n",
    "    outputData.append(np.array([data[\"Store_Sales\"][i]]))\n",
    "inputData = np.array(inputData)\n",
    "outputData = np.array(outputData)\n",
    "print(\"\\n\\nInput Data (top 10 rows):\")\n",
    "print(inputData[:10])\n",
    "print(\"\\n\\nOutput Data (top 10 rows):\")\n",
    "print(outputData[:10])\n",
    "print(\"\\n\\nInput shape, Output shape: \",inputData.shape,outputData.shape)"
   ]
  },
  {
   "cell_type": "code",
   "execution_count": null,
   "id": "7ea10eee",
   "metadata": {},
   "outputs": [],
   "source": []
  }
 ],
 "metadata": {
  "kernelspec": {
   "display_name": "Python 3 (ipykernel)",
   "language": "python",
   "name": "python3"
  },
  "language_info": {
   "codemirror_mode": {
    "name": "ipython",
    "version": 3
   },
   "file_extension": ".py",
   "mimetype": "text/x-python",
   "name": "python",
   "nbconvert_exporter": "python",
   "pygments_lexer": "ipython3",
   "version": "3.10.8"
  }
 },
 "nbformat": 4,
 "nbformat_minor": 5
}
